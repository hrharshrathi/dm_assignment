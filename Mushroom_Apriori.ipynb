{
 "cells": [
  {
   "cell_type": "code",
   "execution_count": null,
   "metadata": {},
   "outputs": [],
   "source": [
    "import pandas as pd\n",
    "import numpy as np\n",
    "import seaborn as sns\n",
    "import matplotlib.pyplot as plt\n",
    "import plotly.express as px\n",
    "\n",
    "from sklearn.preprocessing import StandardScaler, LabelEncoder\n",
    "from sklearn.metrics import classification_report, confusion_matrix\n",
    "from sklearn.model_selection import train_test_split\n",
    "\n",
    "from xgboost import XGBClassifier,XGBRFClassifier\n",
    "from sklearn.neural_network import MLPClassifier\n",
    "from sklearn.ensemble import RandomForestClassifier, GradientBoostingClassifier\n",
    "from mlxtend.preprocessing import TransactionEncoder\n",
    "from mlxtend.frequent_patterns import apriori\n",
    "from mlxtend.frequent_patterns import association_rules"
   ]
  },
  {
   "cell_type": "code",
   "execution_count": null,
   "metadata": {},
   "outputs": [],
   "source": [
    "df = pd.read_csv('/kaggle/input/mushroom-classification/mushrooms.csv')\n",
    "df['class'].replace(['e','p'],['Edible','Poisonous'],inplace=True)\n",
    "df.head()"
   ]
  },
  {
   "cell_type": "code",
   "execution_count": null,
   "metadata": {},
   "outputs": [],
   "source": [
    "labels = df['class'].value_counts().index\n",
    "sizes = df['class'].value_counts().values\n",
    "\n",
    "plt.figure(figsize=(10,5))\n",
    "plt.pie(x=sizes,autopct='%1.1f%%',explode=(0.1,0),shadow=True, textprops={'color':\"gray\"}, \n",
    "startangle=90,colors=[\"teal\",\"darkkhaki\"],frame=True,pctdistance=1.2,labeldistance=0)\n",
    "plt.axis('equal')\n",
    "plt.legend(labels)\n",
    "plt.title(\"Classes\".upper(),fontsize=20)\n",
    "plt.xticks([])\n",
    "plt.yticks([])\n",
    "plt.show()\n",
    "print('Figure 1: Percentages of Mushroom Classes')"
   ]
  },
  {
   "cell_type": "code",
   "execution_count": null,
   "metadata": {},
   "outputs": [],
   "source": [
    "plt.figure(figsize=(10,28))\n",
    "for i,j in zip(df.iloc[:,1:].columns,range(1,23)):\n",
    "    plt.subplot(11,2,j)\n",
    "    sns.countplot(x=i, data=df, palette=\"twilight\", edgecolor=\"black\")\n",
    "plt.tight_layout()\n",
    "plt.show()\n",
    "\n",
    "print('Figure 2: Counter Cards for Attributes')"
   ]
  },
  {
   "cell_type": "code",
   "execution_count": null,
   "metadata": {},
   "outputs": [],
   "source": [
    "plt.figure(figsize=(15,40))\n",
    "for i,j in zip(df.iloc[:,1:].columns,range(1,23)):\n",
    "    plt.subplot(11,2,j)\n",
    "    df.groupby(i)['class'].value_counts().plot(kind=\"barh\",edgecolor=\"black\",color=\"teal\")\n",
    "    plt.xlabel(\"Value Counts\")\n",
    "plt.tight_layout()\n",
    "plt.show()\n",
    "print('Figure 3: Query Cards for Attributes')"
   ]
  },
  {
   "cell_type": "code",
   "execution_count": null,
   "metadata": {},
   "outputs": [],
   "source": [
    "df_ap = pd.get_dummies(df,prefix_sep=\"_\")\n",
    "df_ap.head()\n",
    "df1 =  apriori(df_ap, min_support=0.80, use_colnames = True, verbose=1)\n",
    "df1.style.background_gradient(\"Greens\")"
   ]
  },
  {
   "cell_type": "code",
   "execution_count": null,
   "metadata": {},
   "outputs": [],
   "source": [
    "association_rules(df1, metric = \"support\", min_threshold = 0.9).style.background_gradient(\"gist_earth_r\")"
   ]
  }
 ],
 "metadata": {
  "kernelspec": {
   "display_name": "Python 3",
   "language": "python",
   "name": "python3"
  },
  "language_info": {
   "codemirror_mode": {
    "name": "ipython",
    "version": 3
   },
   "file_extension": ".py",
   "mimetype": "text/x-python",
   "name": "python",
   "nbconvert_exporter": "python",
   "pygments_lexer": "ipython3",
   "version": "3.7.4"
  }
 },
 "nbformat": 4,
 "nbformat_minor": 2
}
